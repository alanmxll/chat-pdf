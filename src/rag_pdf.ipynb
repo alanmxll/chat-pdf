{
 "cells": [
  {
   "cell_type": "code",
   "execution_count": null,
   "metadata": {},
   "outputs": [],
   "source": [
    "%pip install langchain gradio"
   ]
  },
  {
   "cell_type": "code",
   "execution_count": null,
   "metadata": {},
   "outputs": [],
   "source": [
    "from langchain.document_loaders import PyPDFLoader\n",
    "from langchain.text_splitter import RecursiveCharacterTextSplitter\n",
    "from langchain.embeddings import SentenceTransformerEmbeddings\n",
    "from langchain.vectorstores import Chroma\n",
    "from langchain.prompts import PromptTemplate\n",
    "from langchain.memory import ConversationBufferMemory\n",
    "from langchain.chains import ConversationalRetrievalChain\n",
    "from langchain.llms import LlamaCpp\n",
    "\n",
    "import gradio as gr"
   ]
  },
  {
   "cell_type": "code",
   "execution_count": null,
   "metadata": {},
   "outputs": [],
   "source": [
    "class ChatPDF:\n",
    "  def __init__(self, files: list, vectordb_path: str):\n",
    "    self.files = files\n",
    "    self.pages = []\n",
    "    self.documents = []\n",
    "    self.vectordb_path = vectordb_path\n",
    "  \n",
    "  def load(self):\n",
    "    pages = []\n",
    "\n",
    "    for file in self.files:\n",
    "      loader = PyPDFLoader(file)\n",
    "      pages = loader.load()\n",
    "      self.pages.extend(pages)\n",
    "      print(f\"Loading file {file}\")\n",
    "\n",
    "    return len(self.files), len(self.pages)\n",
    "  \n",
    "  def split(self, chunk_size: int = 1500, chunk_overlap: int = 150):\n",
    "    text_splitter = RecursiveCharacterTextSplitter(\n",
    "      chunk_size=chunk_size,\n",
    "      chunk_overlap=chunk_overlap,\n",
    "    )\n",
    "\n",
    "    self.documents = text_splitter.split_documents(self.pages)\n",
    "\n",
    "    return len(self.documents)\n",
    "\n",
    "  def get_embeddings(self):\n",
    "    self.embeddings = SentenceTransformerEmbeddings(model_name=\"all-MiniLM-L6-v2\")\n",
    "  \n",
    "  def store(self):\n",
    "    vectordb = Chroma.from_documents(\n",
    "      documents=self.documents,\n",
    "      embedding=self.embeddings,\n",
    "      persist_directory=self.vectordb_path,\n",
    "    )\n",
    "\n",
    "    vectordb.persist()\n",
    "\n",
    "    self.vectordb = vectordb\n",
    "  \n",
    "  def create_llm(self, temperature: float = 0.7):\n",
    "    self.llm = LlamaCpp(\n",
    "      model_path=\"../models/llama-2-7b-chat.ggmlv3.q4_0.bin\",\n",
    "      verbose=True,\n",
    "      n_ctx=2048,\n",
    "    )\n",
    "  \n",
    "  def create_memory(self):\n",
    "    self.memory = ConversationBufferMemory(\n",
    "      memory_key=\"chat_history\",\n",
    "      return_message=True,\n",
    "    )\n",
    "\n",
    "  def create_retriever(self):\n",
    "    self.retriever = self.vectordb.as_retriever()\n",
    "  \n",
    "  def create_chat_session(self):\n",
    "    PROMPT_TEMPLATE = \"\"\"\n",
    "    Use the following pieces of context to answer the question at the end. If you don't the answer, just say that you don't know, don't try to male up the answer. Use three sentences maximum. Keep answer as concise as possible. Always say \"thanks for asking!\" at the end of the answer.\n",
    "    {context}\n",
    "    Question: {question}\n",
    "    Helpful Answer:\n",
    "    \"\"\"\n",
    "\n",
    "    QA_CHAIN_PROMPT = PromptTemplate.from_template(PROMPT_TEMPLATE)\n",
    "\n",
    "    self.qa = ConversationalRetrievalChain.from_llm(\n",
    "      self.llm,\n",
    "      retriever=self.retriever,\n",
    "      memory=self.memory,\n",
    "      combine_docs_chain_kwargs={'prompt': QA_CHAIN_PROMPT},\n",
    "    )"
   ]
  },
  {
   "cell_type": "code",
   "execution_count": null,
   "metadata": {},
   "outputs": [],
   "source": [
    "files = [\"../docs/Clean Code.pdf\"]\n",
    "vectordb_path = \"../docs/chroma/\"\n",
    "\n",
    "chat = ChatPDF(files, vectordb_path)"
   ]
  },
  {
   "cell_type": "code",
   "execution_count": null,
   "metadata": {},
   "outputs": [],
   "source": [
    "%pip install pypdf"
   ]
  },
  {
   "cell_type": "code",
   "execution_count": null,
   "metadata": {},
   "outputs": [],
   "source": [
    "chat.load()"
   ]
  },
  {
   "cell_type": "code",
   "execution_count": null,
   "metadata": {},
   "outputs": [],
   "source": [
    "chat.split()"
   ]
  },
  {
   "cell_type": "code",
   "execution_count": null,
   "metadata": {},
   "outputs": [],
   "source": [
    "%pip install sentence_transformers chromadb llama-cpp-python"
   ]
  },
  {
   "cell_type": "code",
   "execution_count": null,
   "metadata": {},
   "outputs": [],
   "source": [
    "chat.get_embeddings()\n",
    "chat.store()\n",
    "chat.create_llm()\n",
    "chat.create_memory()\n",
    "chat.create_retriever()"
   ]
  },
  {
   "cell_type": "code",
   "execution_count": null,
   "metadata": {},
   "outputs": [],
   "source": [
    "chat.create_chat_session()"
   ]
  },
  {
   "cell_type": "code",
   "execution_count": null,
   "metadata": {},
   "outputs": [],
   "source": [
    "chat_history = []\n",
    "\n",
    "with gr.Blocks() as demo:\n",
    "  chatbot = gr.Chatbot()\n",
    "  msg = gr.Textbox()\n",
    "  clear = gr.Button(\"Clear\")\n",
    "\n",
    "  chat_history = []\n",
    "\n",
    "  def user(user_message, chat_history):\n",
    "    result = chat.qa({\"question\": user_message, \"chat_history\": chat_history})\n",
    "\n",
    "    chat_history.append((user_message, result[\"answer\"]))\n",
    "\n",
    "    return gr.update(value=\"\"), chat_history\n",
    "  \n",
    "  msg.submit(user, [msg, chatbot], [msg, chatbot], queue=False)\n",
    "  clear.click(lambda: None, None, chatbot, queue=False)\n",
    "\n",
    "if __name__ == \"__main__\":\n",
    "  demo.launch(debug=True)"
   ]
  }
 ],
 "metadata": {
  "kernelspec": {
   "display_name": "Python 3 (ipykernel)",
   "language": "python",
   "name": "python3"
  },
  "language_info": {
   "codemirror_mode": {
    "name": "ipython",
    "version": 3
   },
   "file_extension": ".py",
   "mimetype": "text/x-python",
   "name": "python",
   "nbconvert_exporter": "python",
   "pygments_lexer": "ipython3",
   "version": "3.11.4"
  },
  "orig_nbformat": 4
 },
 "nbformat": 4,
 "nbformat_minor": 2
}
